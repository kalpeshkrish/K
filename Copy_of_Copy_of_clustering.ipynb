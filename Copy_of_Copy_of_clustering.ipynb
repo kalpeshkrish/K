{
  "nbformat": 4,
  "nbformat_minor": 0,
  "metadata": {
    "colab": {
      "name": "Copy of Copy of clustering.ipynb",
      "provenance": [],
      "include_colab_link": true
    },
    "kernelspec": {
      "name": "python3",
      "display_name": "Python 3"
    }
  },
  "cells": [
    {
      "cell_type": "markdown",
      "metadata": {
        "id": "view-in-github",
        "colab_type": "text"
      },
      "source": [
        "<a href=\"https://colab.research.google.com/github/kalpeshkrish/K/blob/main/Copy_of_Copy_of_clustering.ipynb\" target=\"_parent\"><img src=\"https://colab.research.google.com/assets/colab-badge.svg\" alt=\"Open In Colab\"/></a>"
      ]
    },
    {
      "cell_type": "markdown",
      "metadata": {
        "id": "IW9ROLmW4XRj"
      },
      "source": [
        "# Clustering\n",
        "\n",
        "\\\n",
        "When you look for things such as music, you might want to look for meaningful groups. It could be from a particular artist, a particular genre, a particular language or a particular decade. How you group items gives you more insights about it.\n",
        "\n",
        "\\\n",
        "You might find you have a strong linking for vintage music, or something upbeat.\n",
        "\n",
        "\\\n",
        "In machine learning, we can often group examples to understand more about the data. Grouping unlabelled examples is called clustering.\n",
        "\n",
        "\\\n",
        "For example, let's say that you have a dataset of flowers, with different petal and sepal size but you want to identify what kind of a flower are they. For this, you can group the blobs in the scatter plot and then based on the attributes of the cluster, you can identify what flower it is.\n",
        "\n",
        "\\\n",
        "One of the most widely used algorithms for clustering is the K-means algorithm.\n",
        "\n",
        "\\\n",
        "![alt text](https://drive.google.com/uc?export=view&id=16nTiBIOiu0vFdYTpffhdML_9idPun8Wd)\n",
        "\n",
        "\n",
        "\\\n",
        "# Applications of clustering\n",
        "\n",
        "\\\n",
        "It has a wide use of activities. Based on the example above, it can be used in the field of biology to differentiate species from each other, or it can be used to identify different images / audio. It can also be used to group behaviours, or detecting abnormal behaviour.\n",
        "\n",
        "\\\n",
        "# How does it work?\n",
        "\n",
        "\\\n",
        "We are going to study the K-means algorithm. The first step to perform here is to decide the number of clusters. The `K` signifies the number of clusters that the algorithm would find in the dataset.\n",
        "\n",
        "\\\n",
        "Choosing the right K is very important. Sometimes, it is clearly visible from the dataset when it is visualised, however, most of the time, this is not the case.\n",
        "\n",
        "\\\n",
        "## Steps to perform the K-means Algorithm -\n",
        "\n",
        "\\\n",
        "###Step 1\n",
        "Choose the number K of clusters\n",
        "\n",
        "###Step 2\n",
        "Select randomly the center points (`centroids`) for the K clusters (2 in this case)\n",
        "\\\n",
        "![alt text](https://drive.google.com/uc?export=view&id=1Ki8gF0PZ-tQLrLmXnWHsPa7T3eLH7VkU)\n",
        "\n",
        "###Step 3\n",
        "Assign each data point to the closest centroid\n",
        "\\\n",
        "![alt text](https://drive.google.com/uc?export=view&id=1n8DXXA_-VJdaY56lvBKnRmh1q8ud4s9V)\n",
        "\n",
        "###Step 4\n",
        "Shift the centroids a little for all the clusters\n",
        "\\\n",
        "![alt text](https://drive.google.com/uc?export=view&id=10C8WJ0EdBMCiD5Qka0-Gn3rOho38s3xz)\n",
        "\n",
        "###Step 5\n",
        "Re-assign each data point to the new closest centroid. If any points got reassigned, repeat `Step 4` again otherwise the model is ready.\n",
        "\\\n",
        "![alt text](https://drive.google.com/uc?export=view&id=14m8LCTZcw2xUZ6CnI54xrhWfbJ_DROa5)\n",
        "\n",
        "##Summary\n",
        "\\\n",
        "![alt text](https://drive.google.com/uc?export=view&id=13mSOR4-Z4y_4lTaW1zBwDlqGKxhdNh8x)"
      ]
    },
    {
      "cell_type": "markdown",
      "metadata": {
        "id": "Da0tEizwm0ed"
      },
      "source": [
        "# How to choose the right K?\n",
        "\n",
        "\\\n",
        "We use the `WCSS` perimeter to to evaluate the choice of K. `WCSS` stands for `Within Cluster Sum of Squares`. What this means is that we are going to choose a center point for a cluster, from where all the points falling inside that cluster will be closest.\n",
        "\n",
        "Then, we will calculate the distance of all the points from the center, add up all the distances and then note the value.\n",
        "\n",
        "We will then take 2 centre points and do the same. We will choose the value of K to be the one which has the minimum sum of all the distances.\n",
        "\n",
        "\\\n",
        "The `Elbow method` can be used to choose the best value for K. Let's see how it works!\n",
        "\n",
        "\\\n",
        "Here, we are going to take up a data of some of the flowers, and we want to cluster them to know how many species of flower's data do we have."
      ]
    },
    {
      "cell_type": "code",
      "metadata": {
        "id": "XUcevpwT8iEL",
        "colab": {
          "resources": {
            "http://localhost:8080/nbextensions/google.colab/files.js": {
              "data": "Ly8gQ29weXJpZ2h0IDIwMTcgR29vZ2xlIExMQwovLwovLyBMaWNlbnNlZCB1bmRlciB0aGUgQXBhY2hlIExpY2Vuc2UsIFZlcnNpb24gMi4wICh0aGUgIkxpY2Vuc2UiKTsKLy8geW91IG1heSBub3QgdXNlIHRoaXMgZmlsZSBleGNlcHQgaW4gY29tcGxpYW5jZSB3aXRoIHRoZSBMaWNlbnNlLgovLyBZb3UgbWF5IG9idGFpbiBhIGNvcHkgb2YgdGhlIExpY2Vuc2UgYXQKLy8KLy8gICAgICBodHRwOi8vd3d3LmFwYWNoZS5vcmcvbGljZW5zZXMvTElDRU5TRS0yLjAKLy8KLy8gVW5sZXNzIHJlcXVpcmVkIGJ5IGFwcGxpY2FibGUgbGF3IG9yIGFncmVlZCB0byBpbiB3cml0aW5nLCBzb2Z0d2FyZQovLyBkaXN0cmlidXRlZCB1bmRlciB0aGUgTGljZW5zZSBpcyBkaXN0cmlidXRlZCBvbiBhbiAiQVMgSVMiIEJBU0lTLAovLyBXSVRIT1VUIFdBUlJBTlRJRVMgT1IgQ09ORElUSU9OUyBPRiBBTlkgS0lORCwgZWl0aGVyIGV4cHJlc3Mgb3IgaW1wbGllZC4KLy8gU2VlIHRoZSBMaWNlbnNlIGZvciB0aGUgc3BlY2lmaWMgbGFuZ3VhZ2UgZ292ZXJuaW5nIHBlcm1pc3Npb25zIGFuZAovLyBsaW1pdGF0aW9ucyB1bmRlciB0aGUgTGljZW5zZS4KCi8qKgogKiBAZmlsZW92ZXJ2aWV3IEhlbHBlcnMgZm9yIGdvb2dsZS5jb2xhYiBQeXRob24gbW9kdWxlLgogKi8KKGZ1bmN0aW9uKHNjb3BlKSB7CmZ1bmN0aW9uIHNwYW4odGV4dCwgc3R5bGVBdHRyaWJ1dGVzID0ge30pIHsKICBjb25zdCBlbGVtZW50ID0gZG9jdW1lbnQuY3JlYXRlRWxlbWVudCgnc3BhbicpOwogIGVsZW1lbnQudGV4dENvbnRlbnQgPSB0ZXh0OwogIGZvciAoY29uc3Qga2V5IG9mIE9iamVjdC5rZXlzKHN0eWxlQXR0cmlidXRlcykpIHsKICAgIGVsZW1lbnQuc3R5bGVba2V5XSA9IHN0eWxlQXR0cmlidXRlc1trZXldOwogIH0KICByZXR1cm4gZWxlbWVudDsKfQoKLy8gTWF4IG51bWJlciBvZiBieXRlcyB3aGljaCB3aWxsIGJlIHVwbG9hZGVkIGF0IGEgdGltZS4KY29uc3QgTUFYX1BBWUxPQURfU0laRSA9IDEwMCAqIDEwMjQ7CgpmdW5jdGlvbiBfdXBsb2FkRmlsZXMoaW5wdXRJZCwgb3V0cHV0SWQpIHsKICBjb25zdCBzdGVwcyA9IHVwbG9hZEZpbGVzU3RlcChpbnB1dElkLCBvdXRwdXRJZCk7CiAgY29uc3Qgb3V0cHV0RWxlbWVudCA9IGRvY3VtZW50LmdldEVsZW1lbnRCeUlkKG91dHB1dElkKTsKICAvLyBDYWNoZSBzdGVwcyBvbiB0aGUgb3V0cHV0RWxlbWVudCB0byBtYWtlIGl0IGF2YWlsYWJsZSBmb3IgdGhlIG5leHQgY2FsbAogIC8vIHRvIHVwbG9hZEZpbGVzQ29udGludWUgZnJvbSBQeXRob24uCiAgb3V0cHV0RWxlbWVudC5zdGVwcyA9IHN0ZXBzOwoKICByZXR1cm4gX3VwbG9hZEZpbGVzQ29udGludWUob3V0cHV0SWQpOwp9CgovLyBUaGlzIGlzIHJvdWdobHkgYW4gYXN5bmMgZ2VuZXJhdG9yIChub3Qgc3VwcG9ydGVkIGluIHRoZSBicm93c2VyIHlldCksCi8vIHdoZXJlIHRoZXJlIGFyZSBtdWx0aXBsZSBhc3luY2hyb25vdXMgc3RlcHMgYW5kIHRoZSBQeXRob24gc2lkZSBpcyBnb2luZwovLyB0byBwb2xsIGZvciBjb21wbGV0aW9uIG9mIGVhY2ggc3RlcC4KLy8gVGhpcyB1c2VzIGEgUHJvbWlzZSB0byBibG9jayB0aGUgcHl0aG9uIHNpZGUgb24gY29tcGxldGlvbiBvZiBlYWNoIHN0ZXAsCi8vIHRoZW4gcGFzc2VzIHRoZSByZXN1bHQgb2YgdGhlIHByZXZpb3VzIHN0ZXAgYXMgdGhlIGlucHV0IHRvIHRoZSBuZXh0IHN0ZXAuCmZ1bmN0aW9uIF91cGxvYWRGaWxlc0NvbnRpbnVlKG91dHB1dElkKSB7CiAgY29uc3Qgb3V0cHV0RWxlbWVudCA9IGRvY3VtZW50LmdldEVsZW1lbnRCeUlkKG91dHB1dElkKTsKICBjb25zdCBzdGVwcyA9IG91dHB1dEVsZW1lbnQuc3RlcHM7CgogIGNvbnN0IG5leHQgPSBzdGVwcy5uZXh0KG91dHB1dEVsZW1lbnQubGFzdFByb21pc2VWYWx1ZSk7CiAgcmV0dXJuIFByb21pc2UucmVzb2x2ZShuZXh0LnZhbHVlLnByb21pc2UpLnRoZW4oKHZhbHVlKSA9PiB7CiAgICAvLyBDYWNoZSB0aGUgbGFzdCBwcm9taXNlIHZhbHVlIHRvIG1ha2UgaXQgYXZhaWxhYmxlIHRvIHRoZSBuZXh0CiAgICAvLyBzdGVwIG9mIHRoZSBnZW5lcmF0b3IuCiAgICBvdXRwdXRFbGVtZW50Lmxhc3RQcm9taXNlVmFsdWUgPSB2YWx1ZTsKICAgIHJldHVybiBuZXh0LnZhbHVlLnJlc3BvbnNlOwogIH0pOwp9CgovKioKICogR2VuZXJhdG9yIGZ1bmN0aW9uIHdoaWNoIGlzIGNhbGxlZCBiZXR3ZWVuIGVhY2ggYXN5bmMgc3RlcCBvZiB0aGUgdXBsb2FkCiAqIHByb2Nlc3MuCiAqIEBwYXJhbSB7c3RyaW5nfSBpbnB1dElkIEVsZW1lbnQgSUQgb2YgdGhlIGlucHV0IGZpbGUgcGlja2VyIGVsZW1lbnQuCiAqIEBwYXJhbSB7c3RyaW5nfSBvdXRwdXRJZCBFbGVtZW50IElEIG9mIHRoZSBvdXRwdXQgZGlzcGxheS4KICogQHJldHVybiB7IUl0ZXJhYmxlPCFPYmplY3Q+fSBJdGVyYWJsZSBvZiBuZXh0IHN0ZXBzLgogKi8KZnVuY3Rpb24qIHVwbG9hZEZpbGVzU3RlcChpbnB1dElkLCBvdXRwdXRJZCkgewogIGNvbnN0IGlucHV0RWxlbWVudCA9IGRvY3VtZW50LmdldEVsZW1lbnRCeUlkKGlucHV0SWQpOwogIGlucHV0RWxlbWVudC5kaXNhYmxlZCA9IGZhbHNlOwoKICBjb25zdCBvdXRwdXRFbGVtZW50ID0gZG9jdW1lbnQuZ2V0RWxlbWVudEJ5SWQob3V0cHV0SWQpOwogIG91dHB1dEVsZW1lbnQuaW5uZXJIVE1MID0gJyc7CgogIGNvbnN0IHBpY2tlZFByb21pc2UgPSBuZXcgUHJvbWlzZSgocmVzb2x2ZSkgPT4gewogICAgaW5wdXRFbGVtZW50LmFkZEV2ZW50TGlzdGVuZXIoJ2NoYW5nZScsIChlKSA9PiB7CiAgICAgIHJlc29sdmUoZS50YXJnZXQuZmlsZXMpOwogICAgfSk7CiAgfSk7CgogIGNvbnN0IGNhbmNlbCA9IGRvY3VtZW50LmNyZWF0ZUVsZW1lbnQoJ2J1dHRvbicpOwogIGlucHV0RWxlbWVudC5wYXJlbnRFbGVtZW50LmFwcGVuZENoaWxkKGNhbmNlbCk7CiAgY2FuY2VsLnRleHRDb250ZW50ID0gJ0NhbmNlbCB1cGxvYWQnOwogIGNvbnN0IGNhbmNlbFByb21pc2UgPSBuZXcgUHJvbWlzZSgocmVzb2x2ZSkgPT4gewogICAgY2FuY2VsLm9uY2xpY2sgPSAoKSA9PiB7CiAgICAgIHJlc29sdmUobnVsbCk7CiAgICB9OwogIH0pOwoKICAvLyBXYWl0IGZvciB0aGUgdXNlciB0byBwaWNrIHRoZSBmaWxlcy4KICBjb25zdCBmaWxlcyA9IHlpZWxkIHsKICAgIHByb21pc2U6IFByb21pc2UucmFjZShbcGlja2VkUHJvbWlzZSwgY2FuY2VsUHJvbWlzZV0pLAogICAgcmVzcG9uc2U6IHsKICAgICAgYWN0aW9uOiAnc3RhcnRpbmcnLAogICAgfQogIH07CgogIGNhbmNlbC5yZW1vdmUoKTsKCiAgLy8gRGlzYWJsZSB0aGUgaW5wdXQgZWxlbWVudCBzaW5jZSBmdXJ0aGVyIHBpY2tzIGFyZSBub3QgYWxsb3dlZC4KICBpbnB1dEVsZW1lbnQuZGlzYWJsZWQgPSB0cnVlOwoKICBpZiAoIWZpbGVzKSB7CiAgICByZXR1cm4gewogICAgICByZXNwb25zZTogewogICAgICAgIGFjdGlvbjogJ2NvbXBsZXRlJywKICAgICAgfQogICAgfTsKICB9CgogIGZvciAoY29uc3QgZmlsZSBvZiBmaWxlcykgewogICAgY29uc3QgbGkgPSBkb2N1bWVudC5jcmVhdGVFbGVtZW50KCdsaScpOwogICAgbGkuYXBwZW5kKHNwYW4oZmlsZS5uYW1lLCB7Zm9udFdlaWdodDogJ2JvbGQnfSkpOwogICAgbGkuYXBwZW5kKHNwYW4oCiAgICAgICAgYCgke2ZpbGUudHlwZSB8fCAnbi9hJ30pIC0gJHtmaWxlLnNpemV9IGJ5dGVzLCBgICsKICAgICAgICBgbGFzdCBtb2RpZmllZDogJHsKICAgICAgICAgICAgZmlsZS5sYXN0TW9kaWZpZWREYXRlID8gZmlsZS5sYXN0TW9kaWZpZWREYXRlLnRvTG9jYWxlRGF0ZVN0cmluZygpIDoKICAgICAgICAgICAgICAgICAgICAgICAgICAgICAgICAgICAgJ24vYSd9IC0gYCkpOwogICAgY29uc3QgcGVyY2VudCA9IHNwYW4oJzAlIGRvbmUnKTsKICAgIGxpLmFwcGVuZENoaWxkKHBlcmNlbnQpOwoKICAgIG91dHB1dEVsZW1lbnQuYXBwZW5kQ2hpbGQobGkpOwoKICAgIGNvbnN0IGZpbGVEYXRhUHJvbWlzZSA9IG5ldyBQcm9taXNlKChyZXNvbHZlKSA9PiB7CiAgICAgIGNvbnN0IHJlYWRlciA9IG5ldyBGaWxlUmVhZGVyKCk7CiAgICAgIHJlYWRlci5vbmxvYWQgPSAoZSkgPT4gewogICAgICAgIHJlc29sdmUoZS50YXJnZXQucmVzdWx0KTsKICAgICAgfTsKICAgICAgcmVhZGVyLnJlYWRBc0FycmF5QnVmZmVyKGZpbGUpOwogICAgfSk7CiAgICAvLyBXYWl0IGZvciB0aGUgZGF0YSB0byBiZSByZWFkeS4KICAgIGxldCBmaWxlRGF0YSA9IHlpZWxkIHsKICAgICAgcHJvbWlzZTogZmlsZURhdGFQcm9taXNlLAogICAgICByZXNwb25zZTogewogICAgICAgIGFjdGlvbjogJ2NvbnRpbnVlJywKICAgICAgfQogICAgfTsKCiAgICAvLyBVc2UgYSBjaHVua2VkIHNlbmRpbmcgdG8gYXZvaWQgbWVzc2FnZSBzaXplIGxpbWl0cy4gU2VlIGIvNjIxMTU2NjAuCiAgICBsZXQgcG9zaXRpb24gPSAwOwogICAgZG8gewogICAgICBjb25zdCBsZW5ndGggPSBNYXRoLm1pbihmaWxlRGF0YS5ieXRlTGVuZ3RoIC0gcG9zaXRpb24sIE1BWF9QQVlMT0FEX1NJWkUpOwogICAgICBjb25zdCBjaHVuayA9IG5ldyBVaW50OEFycmF5KGZpbGVEYXRhLCBwb3NpdGlvbiwgbGVuZ3RoKTsKICAgICAgcG9zaXRpb24gKz0gbGVuZ3RoOwoKICAgICAgY29uc3QgYmFzZTY0ID0gYnRvYShTdHJpbmcuZnJvbUNoYXJDb2RlLmFwcGx5KG51bGwsIGNodW5rKSk7CiAgICAgIHlpZWxkIHsKICAgICAgICByZXNwb25zZTogewogICAgICAgICAgYWN0aW9uOiAnYXBwZW5kJywKICAgICAgICAgIGZpbGU6IGZpbGUubmFtZSwKICAgICAgICAgIGRhdGE6IGJhc2U2NCwKICAgICAgICB9LAogICAgICB9OwoKICAgICAgbGV0IHBlcmNlbnREb25lID0gZmlsZURhdGEuYnl0ZUxlbmd0aCA9PT0gMCA/CiAgICAgICAgICAxMDAgOgogICAgICAgICAgTWF0aC5yb3VuZCgocG9zaXRpb24gLyBmaWxlRGF0YS5ieXRlTGVuZ3RoKSAqIDEwMCk7CiAgICAgIHBlcmNlbnQudGV4dENvbnRlbnQgPSBgJHtwZXJjZW50RG9uZX0lIGRvbmVgOwoKICAgIH0gd2hpbGUgKHBvc2l0aW9uIDwgZmlsZURhdGEuYnl0ZUxlbmd0aCk7CiAgfQoKICAvLyBBbGwgZG9uZS4KICB5aWVsZCB7CiAgICByZXNwb25zZTogewogICAgICBhY3Rpb246ICdjb21wbGV0ZScsCiAgICB9CiAgfTsKfQoKc2NvcGUuZ29vZ2xlID0gc2NvcGUuZ29vZ2xlIHx8IHt9OwpzY29wZS5nb29nbGUuY29sYWIgPSBzY29wZS5nb29nbGUuY29sYWIgfHwge307CnNjb3BlLmdvb2dsZS5jb2xhYi5fZmlsZXMgPSB7CiAgX3VwbG9hZEZpbGVzLAogIF91cGxvYWRGaWxlc0NvbnRpbnVlLAp9Owp9KShzZWxmKTsK",
              "ok": true,
              "headers": [
                [
                  "content-type",
                  "application/javascript"
                ]
              ],
              "status": 200,
              "status_text": ""
            }
          },
          "base_uri": "https://localhost:8080/",
          "height": 73
        },
        "outputId": "73c8c6b8-0e64-4865-e26c-f87a487a5068"
      },
      "source": [
        "#Uploading the csv\n",
        "from google.colab import files\n",
        "data_to_load = files.upload()"
      ],
      "execution_count": 1,
      "outputs": [
        {
          "output_type": "display_data",
          "data": {
            "text/html": [
              "\n",
              "     <input type=\"file\" id=\"files-d1e917ad-c510-478d-b0bc-485b3b8e578e\" name=\"files[]\" multiple disabled\n",
              "        style=\"border:none\" />\n",
              "     <output id=\"result-d1e917ad-c510-478d-b0bc-485b3b8e578e\">\n",
              "      Upload widget is only available when the cell has been executed in the\n",
              "      current browser session. Please rerun this cell to enable.\n",
              "      </output>\n",
              "      <script src=\"/nbextensions/google.colab/files.js\"></script> "
            ],
            "text/plain": [
              "<IPython.core.display.HTML object>"
            ]
          },
          "metadata": {}
        },
        {
          "output_type": "stream",
          "name": "stdout",
          "text": [
            "Saving stars.csv to stars.csv\n"
          ]
        }
      ]
    },
    {
      "cell_type": "code",
      "metadata": {
        "id": "z0m3alHG7ygR",
        "colab": {
          "base_uri": "https://localhost:8080/",
          "height": 646
        },
        "outputId": "d9cc3c7c-4ca1-4066-e086-326e87bd05d9"
      },
      "source": [
        "import pandas as pd\n",
        "import plotly.express as px\n",
        "\n",
        "df = pd.read_csv(\"stars.csv\")\n",
        "\n",
        "print(df.head())\n",
        "\n",
        "fig = px.scatter(df, x=\"Size\", y=\"Light\")\n",
        "fig.show()"
      ],
      "execution_count": 4,
      "outputs": [
        {
          "output_type": "stream",
          "name": "stdout",
          "text": [
            "        Size     Light\n",
            "0   5.882677  1.325411\n",
            "1  10.912830  3.183217\n",
            "2   0.281190  0.620011\n",
            "3   7.682623  1.804578\n",
            "4  11.034071  3.390440\n"
          ]
        },
        {
          "output_type": "display_data",
          "data": {
            "text/html": [
              "<html>\n",
              "<head><meta charset=\"utf-8\" /></head>\n",
              "<body>\n",
              "    <div>            <script src=\"https://cdnjs.cloudflare.com/ajax/libs/mathjax/2.7.5/MathJax.js?config=TeX-AMS-MML_SVG\"></script><script type=\"text/javascript\">if (window.MathJax) {MathJax.Hub.Config({SVG: {font: \"STIX-Web\"}});}</script>                <script type=\"text/javascript\">window.PlotlyConfig = {MathJaxConfig: 'local'};</script>\n",
              "        <script src=\"https://cdn.plot.ly/plotly-2.8.3.min.js\"></script>                <div id=\"97310ab7-5e14-406d-9d34-7f9c6212734b\" class=\"plotly-graph-div\" style=\"height:525px; width:100%;\"></div>            <script type=\"text/javascript\">                                    window.PLOTLYENV=window.PLOTLYENV || {};                                    if (document.getElementById(\"97310ab7-5e14-406d-9d34-7f9c6212734b\")) {                    Plotly.newPlot(                        \"97310ab7-5e14-406d-9d34-7f9c6212734b\",                        [{\"hovertemplate\":\"Size=%{x}<br>Light=%{y}<extra></extra>\",\"legendgroup\":\"\",\"marker\":{\"color\":\"#636efa\",\"symbol\":\"circle\"},\"mode\":\"markers\",\"name\":\"\",\"orientation\":\"v\",\"showlegend\":false,\"x\":[5.882677110577015,10.912829741849272,0.2811898677941287,7.682622739447462,11.03407102230486,0.849883472175706,6.473467494519349,12.17993640978502,0.1825332914818903,7.568209564636978,12.69679004883339,0.0277037693541565,5.200217140645759,14.84844866859369,0.259068218351282,6.124343795495355,10.063012145407368,0.5067563935964172,6.282218313984021,14.02518299510856,0.0543411575224216,6.276266544447098,10.311574480169604,0.9995872678923662,5.229165522798715,12.774522894829772,0.992871732918259,6.782031264737263,12.733557378565273,0.140921306192209,5.08774426384934,14.781572826678222,0.2075812520097506,5.774216442745803,14.421880853900774,0.6121779166537155,7.84657615588474,13.65219272535975,0.0882508419808312,7.499278380868503,12.253527547950611,0.7647705203327447,5.926569062178362,10.367916068218126,0.7340023161733802,7.162859924407057,10.435320464765285,0.9670562832895838,5.12900849417646,13.8136036031457,0.0920950464114501,6.338301035074046,14.699618333218892,0.3628604486525623,6.540583934511781,11.930843266496732,0.5963062918387443,5.166940512458978,10.174622334910572,0.5480646136922991,6.045394900082553,12.4171748823078,0.9291753112400964,6.105737820026733,11.255966284587368,0.2858485430879173,7.841890066183929,13.864955265727405,0.2885225525138588,5.566343473368446,10.41513273850386,0.5588856132243603,6.993336061962861,12.334595248703549,0.0847375201386988,5.547233869255975,10.957420390094898,0.5559702608627309,5.454960468318259,14.800598305873008,0.965094549680252,7.361434534296507,14.199984112681136,0.4410432144438012,7.589228018483846,12.990758751964613,0.8883291777747041,6.568474883743718,10.62747539496314,0.3810802253876655,6.36006233965395,14.67512541729659,0.0178265252209468,5.132042704423335,10.362837422953763,0.785859690344634,6.697102949489528,11.074357920150796,0.821132525603258,5.595077199074354,13.707022192731266,0.8193225176169054,6.663370444672838,13.87876793525288,0.9601251760166832,6.588184428768933,11.747750668713298,0.5772128447292312,5.728787248495453,10.096014013689718,0.3715078621196577,6.222687172098961,10.349859960449042,0.372052892724491,5.971020608677074,13.713062283111936,0.9149150879070348,7.082123018471638,13.63453693952001,0.9858906151540988,7.035005498767369,11.115489232906867,0.4208249442863789,7.708367153426053,12.89790103291452,0.4335613250824579,7.249261139901567,12.065157754754289,0.8398466051644851,5.139876560884019,10.18640537718206,0.1677597117592325,7.190862060120328,10.755584771914457,0.8154650305381588,7.98068149786919,11.431025785531313,0.133684700113147,7.28023635065119,12.934223566008214,0.2836017420287031,5.793998525161985,10.06468764971327,0.5581292831153902,7.74230770580416,11.215165059297332,0.0815547658420625,6.879420661840806,12.939503155871826,0.5804063000471639],\"xaxis\":\"x\",\"y\":[1.3254107540216171,3.183217305377668,0.6200107602625141,1.80457756300018,3.3904400900453187,0.8265615706603154,0.9999718666648862,4.376956420140158,0.2437279327676674,1.3105306838396569,2.035843759553087,0.6439061119800805,1.9039285450541823,9.206770859774384,0.7830553635724311,1.1005551034677512,6.842357200049468,0.7437021380932864,0.169347175672162,7.435553591398383,0.1915632941646946,0.3375845167725848,9.41636235330795,0.2918937865245634,0.0249325174609866,3.359901155094552,0.2772194143235812,0.2374195127039764,4.986289309542314,0.4445367915827509,0.3371881980200997,3.0263682290425606,0.4006389459313925,1.018177872258571,5.065613305947155,0.7545439954962615,0.8179473404091615,4.196248191393661,0.310752668396447,1.5656451875075692,5.548710221166132,0.8194963361052416,0.1217567225928377,7.813800204849288,0.3124621674751869,1.529453457424633,6.113515379580372,0.3186917850132911,0.4811628025170529,3.4145102139625614,0.3983860633267231,1.0232754384291431,9.606953687723102,0.6135626145765912,1.0228740148050142,3.9843670539237177,0.9132497840068828,0.3202618248419766,5.462776366817291,0.225541088106224,0.0657975409741331,9.548807332762935,0.6911844935453999,0.0744273470913929,2.7762364186489457,0.8220512577008073,1.542151102015341,4.847192392007801,0.5477355511258448,0.6107776486076262,2.8911140684054644,0.2898235182568031,1.8675696540057467,9.038427660869663,0.6596512501496302,0.7278042327286223,2.613044788533544,0.0795709570393468,1.5821975235822587,6.588734375706124,0.6046791991108178,0.5024840219809037,2.409841210891656,0.9638640170914982,0.530984319143398,6.681481444255494,0.1298255375997768,0.2315052475230345,7.5385694156728,0.0255704140228146,1.1121073002210111,3.639049287218893,0.2627020688020431,0.801876216760425,2.52081029579053,0.6219078855510484,1.6757501199726792,4.543634411345299,0.8084991665065115,1.2012873698491309,8.11856780476936,0.4744696505634506,0.3824981594431362,7.027870036245332,0.8980284677121467,0.49131105464879,5.037223221607506,0.2114064919979409,0.5306452085025739,4.85661104967523,0.1794400267087247,0.7978764261073032,2.193468258738821,0.512774111077859,1.7863985611026452,5.102416913066488,0.8055132569536222,1.737880893718023,8.705579150188619,0.1953586453392057,1.3471287813793504,6.666780239568057,0.284875969917205,1.3393880111352234,7.796950595292506,0.0904721350826899,1.6132952982095787,7.305450600177805,0.2753794515693248,1.3071310056231795,7.682591470472628,0.7029197358626283,0.2609579363011534,5.257948001602233,0.2147241223294876,1.3697214537797748,3.130029627022882,0.9681118619001612,1.0992420211503318,5.1353879609761925,0.053689804655275,0.4611037234989517,9.871404304035822,0.0767432340155664,0.4154510670192035,4.828228289872266,0.9042417017797126,0.2693909304979325,2.3650760935249284,0.3271877619762748],\"yaxis\":\"y\",\"type\":\"scatter\"}],                        {\"template\":{\"data\":{\"bar\":[{\"error_x\":{\"color\":\"#2a3f5f\"},\"error_y\":{\"color\":\"#2a3f5f\"},\"marker\":{\"line\":{\"color\":\"#E5ECF6\",\"width\":0.5},\"pattern\":{\"fillmode\":\"overlay\",\"size\":10,\"solidity\":0.2}},\"type\":\"bar\"}],\"barpolar\":[{\"marker\":{\"line\":{\"color\":\"#E5ECF6\",\"width\":0.5},\"pattern\":{\"fillmode\":\"overlay\",\"size\":10,\"solidity\":0.2}},\"type\":\"barpolar\"}],\"carpet\":[{\"aaxis\":{\"endlinecolor\":\"#2a3f5f\",\"gridcolor\":\"white\",\"linecolor\":\"white\",\"minorgridcolor\":\"white\",\"startlinecolor\":\"#2a3f5f\"},\"baxis\":{\"endlinecolor\":\"#2a3f5f\",\"gridcolor\":\"white\",\"linecolor\":\"white\",\"minorgridcolor\":\"white\",\"startlinecolor\":\"#2a3f5f\"},\"type\":\"carpet\"}],\"choropleth\":[{\"colorbar\":{\"outlinewidth\":0,\"ticks\":\"\"},\"type\":\"choropleth\"}],\"contour\":[{\"colorbar\":{\"outlinewidth\":0,\"ticks\":\"\"},\"colorscale\":[[0.0,\"#0d0887\"],[0.1111111111111111,\"#46039f\"],[0.2222222222222222,\"#7201a8\"],[0.3333333333333333,\"#9c179e\"],[0.4444444444444444,\"#bd3786\"],[0.5555555555555556,\"#d8576b\"],[0.6666666666666666,\"#ed7953\"],[0.7777777777777778,\"#fb9f3a\"],[0.8888888888888888,\"#fdca26\"],[1.0,\"#f0f921\"]],\"type\":\"contour\"}],\"contourcarpet\":[{\"colorbar\":{\"outlinewidth\":0,\"ticks\":\"\"},\"type\":\"contourcarpet\"}],\"heatmap\":[{\"colorbar\":{\"outlinewidth\":0,\"ticks\":\"\"},\"colorscale\":[[0.0,\"#0d0887\"],[0.1111111111111111,\"#46039f\"],[0.2222222222222222,\"#7201a8\"],[0.3333333333333333,\"#9c179e\"],[0.4444444444444444,\"#bd3786\"],[0.5555555555555556,\"#d8576b\"],[0.6666666666666666,\"#ed7953\"],[0.7777777777777778,\"#fb9f3a\"],[0.8888888888888888,\"#fdca26\"],[1.0,\"#f0f921\"]],\"type\":\"heatmap\"}],\"heatmapgl\":[{\"colorbar\":{\"outlinewidth\":0,\"ticks\":\"\"},\"colorscale\":[[0.0,\"#0d0887\"],[0.1111111111111111,\"#46039f\"],[0.2222222222222222,\"#7201a8\"],[0.3333333333333333,\"#9c179e\"],[0.4444444444444444,\"#bd3786\"],[0.5555555555555556,\"#d8576b\"],[0.6666666666666666,\"#ed7953\"],[0.7777777777777778,\"#fb9f3a\"],[0.8888888888888888,\"#fdca26\"],[1.0,\"#f0f921\"]],\"type\":\"heatmapgl\"}],\"histogram\":[{\"marker\":{\"pattern\":{\"fillmode\":\"overlay\",\"size\":10,\"solidity\":0.2}},\"type\":\"histogram\"}],\"histogram2d\":[{\"colorbar\":{\"outlinewidth\":0,\"ticks\":\"\"},\"colorscale\":[[0.0,\"#0d0887\"],[0.1111111111111111,\"#46039f\"],[0.2222222222222222,\"#7201a8\"],[0.3333333333333333,\"#9c179e\"],[0.4444444444444444,\"#bd3786\"],[0.5555555555555556,\"#d8576b\"],[0.6666666666666666,\"#ed7953\"],[0.7777777777777778,\"#fb9f3a\"],[0.8888888888888888,\"#fdca26\"],[1.0,\"#f0f921\"]],\"type\":\"histogram2d\"}],\"histogram2dcontour\":[{\"colorbar\":{\"outlinewidth\":0,\"ticks\":\"\"},\"colorscale\":[[0.0,\"#0d0887\"],[0.1111111111111111,\"#46039f\"],[0.2222222222222222,\"#7201a8\"],[0.3333333333333333,\"#9c179e\"],[0.4444444444444444,\"#bd3786\"],[0.5555555555555556,\"#d8576b\"],[0.6666666666666666,\"#ed7953\"],[0.7777777777777778,\"#fb9f3a\"],[0.8888888888888888,\"#fdca26\"],[1.0,\"#f0f921\"]],\"type\":\"histogram2dcontour\"}],\"mesh3d\":[{\"colorbar\":{\"outlinewidth\":0,\"ticks\":\"\"},\"type\":\"mesh3d\"}],\"parcoords\":[{\"line\":{\"colorbar\":{\"outlinewidth\":0,\"ticks\":\"\"}},\"type\":\"parcoords\"}],\"pie\":[{\"automargin\":true,\"type\":\"pie\"}],\"scatter\":[{\"marker\":{\"colorbar\":{\"outlinewidth\":0,\"ticks\":\"\"}},\"type\":\"scatter\"}],\"scatter3d\":[{\"line\":{\"colorbar\":{\"outlinewidth\":0,\"ticks\":\"\"}},\"marker\":{\"colorbar\":{\"outlinewidth\":0,\"ticks\":\"\"}},\"type\":\"scatter3d\"}],\"scattercarpet\":[{\"marker\":{\"colorbar\":{\"outlinewidth\":0,\"ticks\":\"\"}},\"type\":\"scattercarpet\"}],\"scattergeo\":[{\"marker\":{\"colorbar\":{\"outlinewidth\":0,\"ticks\":\"\"}},\"type\":\"scattergeo\"}],\"scattergl\":[{\"marker\":{\"colorbar\":{\"outlinewidth\":0,\"ticks\":\"\"}},\"type\":\"scattergl\"}],\"scattermapbox\":[{\"marker\":{\"colorbar\":{\"outlinewidth\":0,\"ticks\":\"\"}},\"type\":\"scattermapbox\"}],\"scatterpolar\":[{\"marker\":{\"colorbar\":{\"outlinewidth\":0,\"ticks\":\"\"}},\"type\":\"scatterpolar\"}],\"scatterpolargl\":[{\"marker\":{\"colorbar\":{\"outlinewidth\":0,\"ticks\":\"\"}},\"type\":\"scatterpolargl\"}],\"scatterternary\":[{\"marker\":{\"colorbar\":{\"outlinewidth\":0,\"ticks\":\"\"}},\"type\":\"scatterternary\"}],\"surface\":[{\"colorbar\":{\"outlinewidth\":0,\"ticks\":\"\"},\"colorscale\":[[0.0,\"#0d0887\"],[0.1111111111111111,\"#46039f\"],[0.2222222222222222,\"#7201a8\"],[0.3333333333333333,\"#9c179e\"],[0.4444444444444444,\"#bd3786\"],[0.5555555555555556,\"#d8576b\"],[0.6666666666666666,\"#ed7953\"],[0.7777777777777778,\"#fb9f3a\"],[0.8888888888888888,\"#fdca26\"],[1.0,\"#f0f921\"]],\"type\":\"surface\"}],\"table\":[{\"cells\":{\"fill\":{\"color\":\"#EBF0F8\"},\"line\":{\"color\":\"white\"}},\"header\":{\"fill\":{\"color\":\"#C8D4E3\"},\"line\":{\"color\":\"white\"}},\"type\":\"table\"}]},\"layout\":{\"annotationdefaults\":{\"arrowcolor\":\"#2a3f5f\",\"arrowhead\":0,\"arrowwidth\":1},\"autotypenumbers\":\"strict\",\"coloraxis\":{\"colorbar\":{\"outlinewidth\":0,\"ticks\":\"\"}},\"colorscale\":{\"diverging\":[[0,\"#8e0152\"],[0.1,\"#c51b7d\"],[0.2,\"#de77ae\"],[0.3,\"#f1b6da\"],[0.4,\"#fde0ef\"],[0.5,\"#f7f7f7\"],[0.6,\"#e6f5d0\"],[0.7,\"#b8e186\"],[0.8,\"#7fbc41\"],[0.9,\"#4d9221\"],[1,\"#276419\"]],\"sequential\":[[0.0,\"#0d0887\"],[0.1111111111111111,\"#46039f\"],[0.2222222222222222,\"#7201a8\"],[0.3333333333333333,\"#9c179e\"],[0.4444444444444444,\"#bd3786\"],[0.5555555555555556,\"#d8576b\"],[0.6666666666666666,\"#ed7953\"],[0.7777777777777778,\"#fb9f3a\"],[0.8888888888888888,\"#fdca26\"],[1.0,\"#f0f921\"]],\"sequentialminus\":[[0.0,\"#0d0887\"],[0.1111111111111111,\"#46039f\"],[0.2222222222222222,\"#7201a8\"],[0.3333333333333333,\"#9c179e\"],[0.4444444444444444,\"#bd3786\"],[0.5555555555555556,\"#d8576b\"],[0.6666666666666666,\"#ed7953\"],[0.7777777777777778,\"#fb9f3a\"],[0.8888888888888888,\"#fdca26\"],[1.0,\"#f0f921\"]]},\"colorway\":[\"#636efa\",\"#EF553B\",\"#00cc96\",\"#ab63fa\",\"#FFA15A\",\"#19d3f3\",\"#FF6692\",\"#B6E880\",\"#FF97FF\",\"#FECB52\"],\"font\":{\"color\":\"#2a3f5f\"},\"geo\":{\"bgcolor\":\"white\",\"lakecolor\":\"white\",\"landcolor\":\"#E5ECF6\",\"showlakes\":true,\"showland\":true,\"subunitcolor\":\"white\"},\"hoverlabel\":{\"align\":\"left\"},\"hovermode\":\"closest\",\"mapbox\":{\"style\":\"light\"},\"paper_bgcolor\":\"white\",\"plot_bgcolor\":\"#E5ECF6\",\"polar\":{\"angularaxis\":{\"gridcolor\":\"white\",\"linecolor\":\"white\",\"ticks\":\"\"},\"bgcolor\":\"#E5ECF6\",\"radialaxis\":{\"gridcolor\":\"white\",\"linecolor\":\"white\",\"ticks\":\"\"}},\"scene\":{\"xaxis\":{\"backgroundcolor\":\"#E5ECF6\",\"gridcolor\":\"white\",\"gridwidth\":2,\"linecolor\":\"white\",\"showbackground\":true,\"ticks\":\"\",\"zerolinecolor\":\"white\"},\"yaxis\":{\"backgroundcolor\":\"#E5ECF6\",\"gridcolor\":\"white\",\"gridwidth\":2,\"linecolor\":\"white\",\"showbackground\":true,\"ticks\":\"\",\"zerolinecolor\":\"white\"},\"zaxis\":{\"backgroundcolor\":\"#E5ECF6\",\"gridcolor\":\"white\",\"gridwidth\":2,\"linecolor\":\"white\",\"showbackground\":true,\"ticks\":\"\",\"zerolinecolor\":\"white\"}},\"shapedefaults\":{\"line\":{\"color\":\"#2a3f5f\"}},\"ternary\":{\"aaxis\":{\"gridcolor\":\"white\",\"linecolor\":\"white\",\"ticks\":\"\"},\"baxis\":{\"gridcolor\":\"white\",\"linecolor\":\"white\",\"ticks\":\"\"},\"bgcolor\":\"#E5ECF6\",\"caxis\":{\"gridcolor\":\"white\",\"linecolor\":\"white\",\"ticks\":\"\"}},\"title\":{\"x\":0.05},\"xaxis\":{\"automargin\":true,\"gridcolor\":\"white\",\"linecolor\":\"white\",\"ticks\":\"\",\"title\":{\"standoff\":15},\"zerolinecolor\":\"white\",\"zerolinewidth\":2},\"yaxis\":{\"automargin\":true,\"gridcolor\":\"white\",\"linecolor\":\"white\",\"ticks\":\"\",\"title\":{\"standoff\":15},\"zerolinecolor\":\"white\",\"zerolinewidth\":2}}},\"xaxis\":{\"anchor\":\"y\",\"domain\":[0.0,1.0],\"title\":{\"text\":\"Size\"}},\"yaxis\":{\"anchor\":\"x\",\"domain\":[0.0,1.0],\"title\":{\"text\":\"Light\"}},\"legend\":{\"tracegroupgap\":0},\"margin\":{\"t\":60}},                        {\"responsive\": true}                    ).then(function(){\n",
              "                            \n",
              "var gd = document.getElementById('97310ab7-5e14-406d-9d34-7f9c6212734b');\n",
              "var x = new MutationObserver(function (mutations, observer) {{\n",
              "        var display = window.getComputedStyle(gd).display;\n",
              "        if (!display || display === 'none') {{\n",
              "            console.log([gd, 'removed!']);\n",
              "            Plotly.purge(gd);\n",
              "            observer.disconnect();\n",
              "        }}\n",
              "}});\n",
              "\n",
              "// Listen for the removal of the full notebook cells\n",
              "var notebookContainer = gd.closest('#notebook-container');\n",
              "if (notebookContainer) {{\n",
              "    x.observe(notebookContainer, {childList: true});\n",
              "}}\n",
              "\n",
              "// Listen for the clearing of the current output cell\n",
              "var outputEl = gd.closest('.output');\n",
              "if (outputEl) {{\n",
              "    x.observe(outputEl, {childList: true});\n",
              "}}\n",
              "\n",
              "                        })                };                            </script>        </div>\n",
              "</body>\n",
              "</html>"
            ]
          },
          "metadata": {}
        }
      ]
    },
    {
      "cell_type": "markdown",
      "metadata": {
        "id": "vfqG9GOp8_B5"
      },
      "source": [
        "Now, let's find the best K value by using the `WCSS` perimeter and the `Elbow method`."
      ]
    },
    {
      "cell_type": "code",
      "metadata": {
        "id": "Jx0cKktUnws_",
        "colab": {
          "base_uri": "https://localhost:8080/"
        },
        "outputId": "e41a3187-8a7f-4533-8e45-12e73c397be0"
      },
      "source": [
        "from sklearn.cluster import KMeans\n",
        "\n",
        "X = df.iloc[:, [0, 1]].values \n",
        "#Dataframe.iloc[] method is used when the index label of a data frame is something other than  \n",
        "#numeric series of 0, 1, 2, 3….n or in case the user doesn’t know the index label.\n",
        "\n",
        "\n",
        "print(X)\n",
        "\n",
        "wcss = []\n",
        "for i in range(1, 11): #Here the range is taken till 11 because we just need 10 cluster points. \n",
        "    kmeans = KMeans(n_clusters=i, init='k-means++', random_state = 13)\n",
        "    kmeans.fit(X)\n",
        "    # inertia method returns wcss for that model. Inertia measures how well a dataset was clustered by K-Means. It is calculated by measuring the distance between each data point and \n",
        "    #its centroid, squaring this distance, and summing these squares across one cluster.\n",
        "    wcss.append(kmeans.inertia_) #Within Cluster Sum of Squares"
      ],
      "execution_count": 5,
      "outputs": [
        {
          "output_type": "stream",
          "name": "stdout",
          "text": [
            "[[ 5.88267711  1.32541075]\n",
            " [10.91282974  3.18321731]\n",
            " [ 0.28118987  0.62001076]\n",
            " [ 7.68262274  1.80457756]\n",
            " [11.03407102  3.39044009]\n",
            " [ 0.84988347  0.82656157]\n",
            " [ 6.47346749  0.99997187]\n",
            " [12.17993641  4.37695642]\n",
            " [ 0.18253329  0.24372793]\n",
            " [ 7.56820956  1.31053068]\n",
            " [12.69679005  2.03584376]\n",
            " [ 0.02770377  0.64390611]\n",
            " [ 5.20021714  1.90392855]\n",
            " [14.84844867  9.20677086]\n",
            " [ 0.25906822  0.78305536]\n",
            " [ 6.1243438   1.1005551 ]\n",
            " [10.06301215  6.8423572 ]\n",
            " [ 0.50675639  0.74370214]\n",
            " [ 6.28221831  0.16934718]\n",
            " [14.025183    7.43555359]\n",
            " [ 0.05434116  0.19156329]\n",
            " [ 6.27626654  0.33758452]\n",
            " [10.31157448  9.41636235]\n",
            " [ 0.99958727  0.29189379]\n",
            " [ 5.22916552  0.02493252]\n",
            " [12.77452289  3.35990116]\n",
            " [ 0.99287173  0.27721941]\n",
            " [ 6.78203126  0.23741951]\n",
            " [12.73355738  4.98628931]\n",
            " [ 0.14092131  0.44453679]\n",
            " [ 5.08774426  0.3371882 ]\n",
            " [14.78157283  3.02636823]\n",
            " [ 0.20758125  0.40063895]\n",
            " [ 5.77421644  1.01817787]\n",
            " [14.42188085  5.06561331]\n",
            " [ 0.61217792  0.754544  ]\n",
            " [ 7.84657616  0.81794734]\n",
            " [13.65219273  4.19624819]\n",
            " [ 0.08825084  0.31075267]\n",
            " [ 7.49927838  1.56564519]\n",
            " [12.25352755  5.54871022]\n",
            " [ 0.76477052  0.81949634]\n",
            " [ 5.92656906  0.12175672]\n",
            " [10.36791607  7.8138002 ]\n",
            " [ 0.73400232  0.31246217]\n",
            " [ 7.16285992  1.52945346]\n",
            " [10.43532046  6.11351538]\n",
            " [ 0.96705628  0.31869179]\n",
            " [ 5.12900849  0.4811628 ]\n",
            " [13.8136036   3.41451021]\n",
            " [ 0.09209505  0.39838606]\n",
            " [ 6.33830104  1.02327544]\n",
            " [14.69961833  9.60695369]\n",
            " [ 0.36286045  0.61356261]\n",
            " [ 6.54058393  1.02287401]\n",
            " [11.93084327  3.98436705]\n",
            " [ 0.59630629  0.91324978]\n",
            " [ 5.16694051  0.32026182]\n",
            " [10.17462233  5.46277637]\n",
            " [ 0.54806461  0.22554109]\n",
            " [ 6.0453949   0.06579754]\n",
            " [12.41717488  9.54880733]\n",
            " [ 0.92917531  0.69118449]\n",
            " [ 6.10573782  0.07442735]\n",
            " [11.25596628  2.77623642]\n",
            " [ 0.28584854  0.82205126]\n",
            " [ 7.84189007  1.5421511 ]\n",
            " [13.86495527  4.84719239]\n",
            " [ 0.28852255  0.54773555]\n",
            " [ 5.56634347  0.61077765]\n",
            " [10.41513274  2.89111407]\n",
            " [ 0.55888561  0.28982352]\n",
            " [ 6.99333606  1.86756965]\n",
            " [12.33459525  9.03842766]\n",
            " [ 0.08473752  0.65965125]\n",
            " [ 5.54723387  0.72780423]\n",
            " [10.95742039  2.61304479]\n",
            " [ 0.55597026  0.07957096]\n",
            " [ 5.45496047  1.58219752]\n",
            " [14.80059831  6.58873438]\n",
            " [ 0.96509455  0.6046792 ]\n",
            " [ 7.36143453  0.50248402]\n",
            " [14.19998411  2.40984121]\n",
            " [ 0.44104321  0.96386402]\n",
            " [ 7.58922802  0.53098432]\n",
            " [12.99075875  6.68148144]\n",
            " [ 0.88832918  0.12982554]\n",
            " [ 6.56847488  0.23150525]\n",
            " [10.62747539  7.53856942]\n",
            " [ 0.38108023  0.02557041]\n",
            " [ 6.36006234  1.1121073 ]\n",
            " [14.67512542  3.63904929]\n",
            " [ 0.01782653  0.26270207]\n",
            " [ 5.1320427   0.80187622]\n",
            " [10.36283742  2.5208103 ]\n",
            " [ 0.78585969  0.62190789]\n",
            " [ 6.69710295  1.67575012]\n",
            " [11.07435792  4.54363441]\n",
            " [ 0.82113253  0.80849917]\n",
            " [ 5.5950772   1.20128737]\n",
            " [13.70702219  8.1185678 ]\n",
            " [ 0.81932252  0.47446965]\n",
            " [ 6.66337044  0.38249816]\n",
            " [13.87876794  7.02787004]\n",
            " [ 0.96012518  0.89802847]\n",
            " [ 6.58818443  0.49131105]\n",
            " [11.74775067  5.03722322]\n",
            " [ 0.57721284  0.21140649]\n",
            " [ 5.72878725  0.53064521]\n",
            " [10.09601401  4.85661105]\n",
            " [ 0.37150786  0.17944003]\n",
            " [ 6.22268717  0.79787643]\n",
            " [10.34985996  2.19346826]\n",
            " [ 0.37205289  0.51277411]\n",
            " [ 5.97102061  1.78639856]\n",
            " [13.71306228  5.10241691]\n",
            " [ 0.91491509  0.80551326]\n",
            " [ 7.08212302  1.73788089]\n",
            " [13.63453694  8.70557915]\n",
            " [ 0.98589062  0.19535865]\n",
            " [ 7.0350055   1.34712878]\n",
            " [11.11548923  6.66678024]\n",
            " [ 0.42082494  0.28487597]\n",
            " [ 7.70836715  1.33938801]\n",
            " [12.89790103  7.7969506 ]\n",
            " [ 0.43356133  0.09047214]\n",
            " [ 7.24926114  1.6132953 ]\n",
            " [12.06515775  7.3054506 ]\n",
            " [ 0.83984661  0.27537945]\n",
            " [ 5.13987656  1.30713101]\n",
            " [10.18640538  7.68259147]\n",
            " [ 0.16775971  0.70291974]\n",
            " [ 7.19086206  0.26095794]\n",
            " [10.75558477  5.257948  ]\n",
            " [ 0.81546503  0.21472412]\n",
            " [ 7.9806815   1.36972145]\n",
            " [11.43102579  3.13002963]\n",
            " [ 0.1336847   0.96811186]\n",
            " [ 7.28023635  1.09924202]\n",
            " [12.93422357  5.13538796]\n",
            " [ 0.28360174  0.0536898 ]\n",
            " [ 5.79399853  0.46110372]\n",
            " [10.06468765  9.8714043 ]\n",
            " [ 0.55812928  0.07674323]\n",
            " [ 7.74230771  0.41545107]\n",
            " [11.21516506  4.82822829]\n",
            " [ 0.08155477  0.9042417 ]\n",
            " [ 6.87942066  0.26939093]\n",
            " [12.93950316  2.36507609]\n",
            " [ 0.5804063   0.32718776]]\n"
          ]
        }
      ]
    },
    {
      "cell_type": "code",
      "source": [
        "wcss\n"
      ],
      "metadata": {
        "colab": {
          "base_uri": "https://localhost:8080/"
        },
        "id": "q3XUV-rU7s7K",
        "outputId": "5fbc4ea3-6043-472e-cc66-9a35a37a83b5"
      },
      "execution_count": null,
      "outputs": [
        {
          "output_type": "execute_result",
          "data": {
            "text/plain": [
              "[5446.649985340712,\n",
              " 1276.1239239406564,\n",
              " 431.97630172772205,\n",
              " 325.19529581554184,\n",
              " 219.40734944693133,\n",
              " 182.36000891738763,\n",
              " 159.12910593301746,\n",
              " 140.12062844595414,\n",
              " 118.74801030425436,\n",
              " 104.4072528274032]"
            ]
          },
          "metadata": {},
          "execution_count": 4
        }
      ]
    },
    {
      "cell_type": "code",
      "source": [
        "kmeans"
      ],
      "metadata": {
        "colab": {
          "base_uri": "https://localhost:8080/"
        },
        "id": "UboZYiza77GJ",
        "outputId": "3556f545-4b4f-41ee-c08a-2f6f9bffb6db"
      },
      "execution_count": null,
      "outputs": [
        {
          "output_type": "execute_result",
          "data": {
            "text/plain": [
              "KMeans(n_clusters=10, random_state=42)"
            ]
          },
          "metadata": {},
          "execution_count": 5
        }
      ]
    },
    {
      "cell_type": "code",
      "metadata": {
        "id": "FcxDQO_woXQZ",
        "colab": {
          "base_uri": "https://localhost:8080/",
          "height": 439
        },
        "outputId": "7deb4ee9-c581-4c4d-acbc-2f789d5b4c1e"
      },
      "source": [
        "#using the pyplot and the seaborn libraries to create a chart for k-means.\n",
        "\n",
        "import matplotlib.pyplot as plt\n",
        "import seaborn as sns\n",
        "\n",
        "plt.figure(figsize=(10,5)) #specifying the size of our chart (10 units in width and 5 units in height).\n",
        "sns.lineplot(range(1, 11), wcss, marker='o', color='red') # using the sns to create a lineplot (from 1, 11 range and we are passing our list of wcss values we created earlier.\n",
        "# specifying the marker to be “o” or a dot and the color of the line (red).\n",
        "\n",
        "plt.title('The Elbow Method')\n",
        "plt.xlabel('Number of clusters')\n",
        "plt.ylabel('WCSS')\n",
        "plt.show()"
      ],
      "execution_count": 6,
      "outputs": [
        {
          "output_type": "stream",
          "name": "stderr",
          "text": [
            "/usr/local/lib/python3.7/dist-packages/seaborn/_decorators.py:43: FutureWarning:\n",
            "\n",
            "Pass the following variables as keyword args: x, y. From version 0.12, the only valid positional argument will be `data`, and passing other arguments without an explicit keyword will result in an error or misinterpretation.\n",
            "\n"
          ]
        },
        {
          "output_type": "display_data",
          "data": {
            "image/png": "[encoded data removed]",
            "text/plain": [
              "<Figure size 720x360 with 1 Axes>"
            ]
          },
          "metadata": {
            "needs_background": "light"
          }
        }
      ]
    },
    {
      "cell_type": "markdown",
      "metadata": {
        "id": "GAs3hEwYpBQq"
      },
      "source": [
        "Now, if we look at the scatterplot we plotted earlier, we can see that their might be around 3 clusters.\n",
        "\n",
        "\\\n",
        "In the `elbow` chart above, we can see that the WCSS value is decreasing significantly until the `K = 3`. Hence, we can see that our `K` is `3` for the data given."
      ]
    },
    {
      "cell_type": "code",
      "metadata": {
        "id": "PIpbxK-Yox1S"
      },
      "source": [
        "#Now using the K means function we'll find the proper cluster points.\n",
        "kmeans = KMeans(n_clusters = 3, init = 'k-means++', random_state = 13)\n",
        "y_kmeans = kmeans.fit_predict(X)"
      ],
      "execution_count": 7,
      "outputs": []
    },
    {
      "cell_type": "code",
      "source": [
        "print(kmeans.fit_predict(X))"
      ],
      "metadata": {
        "colab": {
          "base_uri": "https://localhost:8080/"
        },
        "id": "qPF6p9iQ8eYD",
        "outputId": "6073b79e-256c-4728-c04b-a45a8fda59e0"
      },
      "execution_count": 8,
      "outputs": [
        {
          "output_type": "stream",
          "name": "stdout",
          "text": [
            "[0 2 1 0 2 1 0 2 1 0 2 1 0 2 1 0 2 1 0 2 1 0 2 1 0 2 1 0 2 1 0 2 1 0 2 1 0\n",
            " 2 1 0 2 1 0 2 1 0 2 1 0 2 1 0 2 1 0 2 1 0 2 1 0 2 1 0 2 1 0 2 1 0 2 1 0 2\n",
            " 1 0 2 1 0 2 1 0 2 1 0 2 1 0 2 1 0 2 1 0 2 1 0 2 1 0 2 1 0 2 1 0 2 1 0 2 1\n",
            " 0 2 1 0 2 1 0 2 1 0 2 1 0 2 1 0 2 1 0 2 1 0 2 1 0 2 1 0 2 1 0 2 1 0 2 1 0\n",
            " 2 1]\n"
          ]
        }
      ]
    },
    {
      "cell_type": "code",
      "metadata": {
        "id": "wi8aFz9jpcg0",
        "colab": {
          "base_uri": "https://localhost:8080/",
          "height": 756
        },
        "outputId": "159a213a-3b30-4d90-c7cb-dbd51b9e1384"
      },
      "source": [
        "#here we are going to create a scatter plot with the groups and different colors of center points for each group.\n",
        "\n",
        "plt.figure(figsize=(15,7)) #specifying the size of the plot.\n",
        "\n",
        "#Then creating 3 scatterplots\n",
        "\n",
        "#I first plot taking the 0th element from X (contains petal and sepal sizes (2 elements)) based on if this pair of petal and sepal sizes belongs to \n",
        "# the 0th cluster (conditioned as y_means == 0). Similarly, we are taking the 1st element as well. repeat this process for y_means 0, 1 and 2. \n",
        "sns.scatterplot(X[y_kmeans == 0, 0], X[y_kmeans == 0, 1], color = 'yellow', label = 'Cluster 1') \n",
        "sns.scatterplot(X[y_kmeans == 1, 0], X[y_kmeans == 1, 1], color = 'blue', label = 'Cluster 2')\n",
        "sns.scatterplot(X[y_kmeans == 2, 0], X[y_kmeans == 2, 1], color = 'green', label = 'Cluster 3')\n",
        "\n",
        "#then creating the centroids of these clusters. will take all the 0th elements from the entire list of cluser_centers_ for the X-Coordinate and \n",
        "#repeating the same to take all the 1st elements from the entire list (Y-Coordinate). coloring the centroids as red, giving label, sizing them as 100 (so\n",
        "#they appear a bit bigger) and giving them a marker.\n",
        "sns.scatterplot(kmeans.cluster_centers_[:, 0], kmeans.cluster_centers_[:, 1], color = 'red', label = 'Centroids',s=400,marker='*')\n",
        "\n",
        "plt.grid(False)\n",
        "plt.title('Clusters of Interscaller objects')\n",
        "plt.xlabel('Size')\n",
        "plt.ylabel('Light')\n",
        "plt.legend()\n",
        "plt.show()"
      ],
      "execution_count": 9,
      "outputs": [
        {
          "output_type": "stream",
          "name": "stderr",
          "text": [
            "/usr/local/lib/python3.7/dist-packages/seaborn/_decorators.py:43: FutureWarning:\n",
            "\n",
            "Pass the following variables as keyword args: x, y. From version 0.12, the only valid positional argument will be `data`, and passing other arguments without an explicit keyword will result in an error or misinterpretation.\n",
            "\n",
            "/usr/local/lib/python3.7/dist-packages/seaborn/_decorators.py:43: FutureWarning:\n",
            "\n",
            "Pass the following variables as keyword args: x, y. From version 0.12, the only valid positional argument will be `data`, and passing other arguments without an explicit keyword will result in an error or misinterpretation.\n",
            "\n",
            "/usr/local/lib/python3.7/dist-packages/seaborn/_decorators.py:43: FutureWarning:\n",
            "\n",
            "Pass the following variables as keyword args: x, y. From version 0.12, the only valid positional argument will be `data`, and passing other arguments without an explicit keyword will result in an error or misinterpretation.\n",
            "\n",
            "/usr/local/lib/python3.7/dist-packages/seaborn/_decorators.py:43: FutureWarning:\n",
            "\n",
            "Pass the following variables as keyword args: x, y. From version 0.12, the only valid positional argument will be `data`, and passing other arguments without an explicit keyword will result in an error or misinterpretation.\n",
            "\n"
          ]
        },
        {
          "output_type": "display_data",
          "data": {
            "image/png": "[encoded data removed]",
            "text/plain": [
              "<Figure size 1080x504 with 1 Axes>"
            ]
          },
          "metadata": {
            "needs_background": "light"
          }
        }
      ]
    },
    {
      "cell_type": "markdown",
      "metadata": {
        "id": "oRRWeOqt426M"
      },
      "source": [
        "Thus, we can see that our model has identified 3 clusters, which means that we had data for 3 different species of flowers."
      ]
    }
  ]
}